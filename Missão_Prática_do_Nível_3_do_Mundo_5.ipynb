{
  "nbformat": 4,
  "nbformat_minor": 0,
  "metadata": {
    "colab": {
      "provenance": [],
      "authorship_tag": "ABX9TyMDB7ajmSTGmZyzu0SLgHeY"
    },
    "kernelspec": {
      "name": "python3",
      "display_name": "Python 3"
    },
    "language_info": {
      "name": "python"
    }
  },
  "cells": [
    {
      "cell_type": "code",
      "source": [
        "import pandas as pd\n",
        "\n",
        "dados_exercicio = None\n",
        "\n",
        "dados_exercicio = pd.read_csv(\n",
        "    '/content/trabalho_03.csv',\n",
        "     sep=';',\n",
        "    engine='python',\n",
        "    encoding='utf-8'\n",
        ")\n",
        "\n",
        "print(dados_exercicio)"
      ],
      "metadata": {
        "colab": {
          "base_uri": "https://localhost:8080/"
        },
        "id": "VNxKsSR3F9LP",
        "outputId": "ebf10c0c-63bc-46ba-ac9d-dc7693f0da08"
      },
      "execution_count": 2,
      "outputs": [
        {
          "output_type": "stream",
          "name": "stdout",
          "text": [
            "    ID  Duration          Date  Pulse  Maxpulse Calories\n",
            "0    0        60  '2020/12/01'    110       130     4091\n",
            "1    1        60  '2020/12/02'    117       145     4790\n",
            "2    2        60  '2020/12/03'    103       135     3400\n",
            "3    3        45  '2020/12/04'    109       175     2824\n",
            "4    4        45  '2020/12/05'    117       148     4060\n",
            "5    5        60  '2020/12/06'    102       127     3000\n",
            "6    6        60  '2020/12/07'    110       136     3740\n",
            "7    7       450  '2020/12/08'    104       134     2533\n",
            "8    8        30  '2020/12/09'    109       133     1951\n",
            "9    9        60  '2020/12/10'     98       124     2690\n",
            "10  10        60  '2020/12/11'    103       147     3293\n",
            "11  11        60  '2020/12/12'    100       120     2507\n",
            "12  12        60  '2020/12/12'    100       120     2507\n",
            "13  13        60  '2020/12/13'    106       128     3453\n",
            "14  14        60  '2020/12/14'    104       132     3793\n",
            "15  15        60  '2020/12/15'     98       123     2750\n",
            "16  16        60  '2020/12/16'     98       120     2152\n",
            "17  17        60  '2020/12/17'    100       120     3000\n",
            "18  18        45  '2020/12/18'     90       112      NaN\n",
            "19  19        60  '2020/12/19'    103       123     3230\n",
            "20  20        45  '2020/12/20'     97       125   2430 2\n",
            "21   1        60  '2020/12/21'    108       131     3642\n",
            "22  22        45           NaN    100       119     2820\n",
            "23  23        60  '2020/12/23'    130       101     3000\n",
            "24  24        45  '2020/12/24'    105       132     2460\n",
            "25  25        60  '2020/12/25'    102       126     3345\n",
            "26  26        60      20201226    100       120     2500\n",
            "27  27        60  '2020/12/27'     92       118     2410\n",
            "28  28        60  '2020/12/28'    103       132      NaN\n",
            "29  29        60  '2020/12/29'    100       132     2800\n",
            "30  30        60  '2020/12/30'    102       129     3803\n",
            "31  31        60  '2020/12/31'     92       115     2430\n"
          ]
        }
      ]
    },
    {
      "cell_type": "code",
      "source": [
        "subconjunto_dados = dados_exercicio[['Date', 'Pulse', 'Calories']]\n",
        "print(subconjunto_dados)"
      ],
      "metadata": {
        "colab": {
          "base_uri": "https://localhost:8080/"
        },
        "id": "jpYan2WHKPi6",
        "outputId": "a4bd1a67-bf9e-434f-ae71-eeee925d41cd"
      },
      "execution_count": 3,
      "outputs": [
        {
          "output_type": "stream",
          "name": "stdout",
          "text": [
            "            Date  Pulse Calories\n",
            "0   '2020/12/01'    110     4091\n",
            "1   '2020/12/02'    117     4790\n",
            "2   '2020/12/03'    103     3400\n",
            "3   '2020/12/04'    109     2824\n",
            "4   '2020/12/05'    117     4060\n",
            "5   '2020/12/06'    102     3000\n",
            "6   '2020/12/07'    110     3740\n",
            "7   '2020/12/08'    104     2533\n",
            "8   '2020/12/09'    109     1951\n",
            "9   '2020/12/10'     98     2690\n",
            "10  '2020/12/11'    103     3293\n",
            "11  '2020/12/12'    100     2507\n",
            "12  '2020/12/12'    100     2507\n",
            "13  '2020/12/13'    106     3453\n",
            "14  '2020/12/14'    104     3793\n",
            "15  '2020/12/15'     98     2750\n",
            "16  '2020/12/16'     98     2152\n",
            "17  '2020/12/17'    100     3000\n",
            "18  '2020/12/18'     90      NaN\n",
            "19  '2020/12/19'    103     3230\n",
            "20  '2020/12/20'     97   2430 2\n",
            "21  '2020/12/21'    108     3642\n",
            "22           NaN    100     2820\n",
            "23  '2020/12/23'    130     3000\n",
            "24  '2020/12/24'    105     2460\n",
            "25  '2020/12/25'    102     3345\n",
            "26      20201226    100     2500\n",
            "27  '2020/12/27'     92     2410\n",
            "28  '2020/12/28'    103      NaN\n",
            "29  '2020/12/29'    100     2800\n",
            "30  '2020/12/30'    102     3803\n",
            "31  '2020/12/31'     92     2430\n"
          ]
        }
      ]
    },
    {
      "cell_type": "code",
      "source": [
        "pd.options.display.max_rows = 9999\n",
        "\n",
        "dados_exercicio = pd.read_csv('trabalho_03.csv', sep=';', engine='python', encoding='utf-8')\n",
        "\n",
        "print(dados_exercicio.to_string())"
      ],
      "metadata": {
        "colab": {
          "base_uri": "https://localhost:8080/"
        },
        "id": "l64V4AR9aVo9",
        "outputId": "ad5e026b-a094-451f-b84e-96d32dceba31"
      },
      "execution_count": 5,
      "outputs": [
        {
          "output_type": "stream",
          "name": "stdout",
          "text": [
            "    ID  Duration          Date  Pulse  Maxpulse Calories\n",
            "0    0        60  '2020/12/01'    110       130     4091\n",
            "1    1        60  '2020/12/02'    117       145     4790\n",
            "2    2        60  '2020/12/03'    103       135     3400\n",
            "3    3        45  '2020/12/04'    109       175     2824\n",
            "4    4        45  '2020/12/05'    117       148     4060\n",
            "5    5        60  '2020/12/06'    102       127     3000\n",
            "6    6        60  '2020/12/07'    110       136     3740\n",
            "7    7       450  '2020/12/08'    104       134     2533\n",
            "8    8        30  '2020/12/09'    109       133     1951\n",
            "9    9        60  '2020/12/10'     98       124     2690\n",
            "10  10        60  '2020/12/11'    103       147     3293\n",
            "11  11        60  '2020/12/12'    100       120     2507\n",
            "12  12        60  '2020/12/12'    100       120     2507\n",
            "13  13        60  '2020/12/13'    106       128     3453\n",
            "14  14        60  '2020/12/14'    104       132     3793\n",
            "15  15        60  '2020/12/15'     98       123     2750\n",
            "16  16        60  '2020/12/16'     98       120     2152\n",
            "17  17        60  '2020/12/17'    100       120     3000\n",
            "18  18        45  '2020/12/18'     90       112      NaN\n",
            "19  19        60  '2020/12/19'    103       123     3230\n",
            "20  20        45  '2020/12/20'     97       125   2430 2\n",
            "21   1        60  '2020/12/21'    108       131     3642\n",
            "22  22        45           NaN    100       119     2820\n",
            "23  23        60  '2020/12/23'    130       101     3000\n",
            "24  24        45  '2020/12/24'    105       132     2460\n",
            "25  25        60  '2020/12/25'    102       126     3345\n",
            "26  26        60      20201226    100       120     2500\n",
            "27  27        60  '2020/12/27'     92       118     2410\n",
            "28  28        60  '2020/12/28'    103       132      NaN\n",
            "29  29        60  '2020/12/29'    100       132     2800\n",
            "30  30        60  '2020/12/30'    102       129     3803\n",
            "31  31        60  '2020/12/31'     92       115     2430\n"
          ]
        }
      ]
    },
    {
      "cell_type": "code",
      "source": [
        "pd.options.display.max_rows = 20\n",
        "\n",
        "dados_exercicio = pd.read_csv('trabalho_03.csv', sep=';', engine='python', encoding='utf-8')\n",
        "\n",
        "print(\"Primeiras 10 linhas:\")\n",
        "print(dados_exercicio.head(10))\n",
        "\n",
        "print(\"\\nÚltimas 10 linhas:\")\n",
        "print(dados_exercicio.tail(10))"
      ],
      "metadata": {
        "colab": {
          "base_uri": "https://localhost:8080/"
        },
        "id": "rbhmLoUpcOgw",
        "outputId": "e0d4d6e3-abf6-4c47-9642-d0f850bb3cf1"
      },
      "execution_count": 7,
      "outputs": [
        {
          "output_type": "stream",
          "name": "stdout",
          "text": [
            "Primeiras 10 linhas:\n",
            "   ID  Duration          Date  Pulse  Maxpulse Calories\n",
            "0   0        60  '2020/12/01'    110       130     4091\n",
            "1   1        60  '2020/12/02'    117       145     4790\n",
            "2   2        60  '2020/12/03'    103       135     3400\n",
            "3   3        45  '2020/12/04'    109       175     2824\n",
            "4   4        45  '2020/12/05'    117       148     4060\n",
            "5   5        60  '2020/12/06'    102       127     3000\n",
            "6   6        60  '2020/12/07'    110       136     3740\n",
            "7   7       450  '2020/12/08'    104       134     2533\n",
            "8   8        30  '2020/12/09'    109       133     1951\n",
            "9   9        60  '2020/12/10'     98       124     2690\n",
            "\n",
            "Últimas 10 linhas:\n",
            "    ID  Duration          Date  Pulse  Maxpulse Calories\n",
            "22  22        45           NaN    100       119     2820\n",
            "23  23        60  '2020/12/23'    130       101     3000\n",
            "24  24        45  '2020/12/24'    105       132     2460\n",
            "25  25        60  '2020/12/25'    102       126     3345\n",
            "26  26        60      20201226    100       120     2500\n",
            "27  27        60  '2020/12/27'     92       118     2410\n",
            "28  28        60  '2020/12/28'    103       132      NaN\n",
            "29  29        60  '2020/12/29'    100       132     2800\n",
            "30  30        60  '2020/12/30'    102       129     3803\n",
            "31  31        60  '2020/12/31'     92       115     2430\n"
          ]
        }
      ]
    },
    {
      "cell_type": "code",
      "source": [
        "dados_exercicio = pd.read_csv('trabalho_03.csv', sep=';', engine='python', encoding='utf-8')\n",
        "\n",
        "print(\"Informações gerais sobre o conjunto de dados:\")\n",
        "dados_exercicio.info()"
      ],
      "metadata": {
        "colab": {
          "base_uri": "https://localhost:8080/"
        },
        "id": "pEkdBi1zdrAR",
        "outputId": "f6f00e46-5a87-4688-dead-fba4cd7e18d3"
      },
      "execution_count": 8,
      "outputs": [
        {
          "output_type": "stream",
          "name": "stdout",
          "text": [
            "Informações gerais sobre o conjunto de dados:\n",
            "<class 'pandas.core.frame.DataFrame'>\n",
            "RangeIndex: 32 entries, 0 to 31\n",
            "Data columns (total 6 columns):\n",
            " #   Column    Non-Null Count  Dtype \n",
            "---  ------    --------------  ----- \n",
            " 0   ID        32 non-null     int64 \n",
            " 1   Duration  32 non-null     int64 \n",
            " 2   Date      31 non-null     object\n",
            " 3   Pulse     32 non-null     int64 \n",
            " 4   Maxpulse  32 non-null     int64 \n",
            " 5   Calories  30 non-null     object\n",
            "dtypes: int64(4), object(2)\n",
            "memory usage: 1.6+ KB\n"
          ]
        }
      ]
    },
    {
      "cell_type": "code",
      "source": [
        "import pandas as pd\n",
        "import numpy as np"
      ],
      "metadata": {
        "id": "IyVsbhNKfL1O"
      },
      "execution_count": 9,
      "outputs": []
    },
    {
      "cell_type": "code",
      "source": [
        "dados_exercicio = pd.read_csv('trabalho_03.csv', sep=';', engine='python', encoding='utf-8')\n",
        "\n",
        "print(\"Informações gerais sobre o conjunto de dados:\")\n",
        "dados_exercicio.info()\n",
        "\n",
        "print(\"\\nPrimeiras 5 linhas:\")\n",
        "print(dados_exercicio.head(5))\n",
        "\n",
        "print(\"\\nÚltimas 5 linhas:\")\n",
        "print(dados_exercicio.tail(5))\n",
        "\n",
        "dados_exercicio_copia = dados_exercicio.copy()\n",
        "\n",
        "dados_exercicio_copia['Calories'].fillna(0, inplace=True)\n",
        "\n",
        "print(\"\\nDados após substituir valores nulos em 'Calories' por 0:\")\n",
        "print(dados_exercicio_copia)\n",
        "\n",
        "dados_exercicio_copia['Date'].fillna('1900/01/01', inplace=True)\n",
        "\n",
        "print(\"\\nDados após substituir valores nulos em 'Date' por '1900/01/01':\")\n",
        "print(dados_exercicio_copia)\n",
        "\n",
        "dados_exercicio_copia['Date'] = dados_exercicio_copia['Date'].str.replace(\"'\", \"\")\n",
        "\n",
        "try:\n",
        "    dados_exercicio_copia['Date'] = pd.to_datetime(dados_exercicio_copia['Date'], format='%Y/%m/%d', errors='coerce')\n",
        "except Exception as e:\n",
        "    print(\"\\nErro ao converter a coluna 'Date' para datetime:\", e)\n",
        "\n",
        "dados_exercicio_copia['Date'].replace('1900/01/01', np.nan, inplace=True)\n",
        "\n",
        "dados_exercicio_copia['Date'] = pd.to_datetime(dados_exercicio_copia['Date'], errors='coerce')\n",
        "\n",
        "print(\"\\nDados após substituir '1900/01/01' por NaN e converter para datetime:\")\n",
        "print(dados_exercicio_copia)\n",
        "\n",
        "dados_exercicio_copia['Date'] = dados_exercicio_copia['Date'].replace('20201226', '2020/12/26')\n",
        "dados_exercicio_copia['Date'] = pd.to_datetime(dados_exercicio_copia['Date'], errors='coerce')\n",
        "\n",
        "print(\"\\nDados após corrigir o valor '20201226' e converter para datetime:\")\n",
        "print(dados_exercicio_copia)\n",
        "\n",
        "dados_exercicio_copia.dropna(subset=['Date'], inplace=True)\n",
        "\n",
        "print(\"\\nDataFrame final após todas as transformações:\")\n",
        "print(dados_exercicio_copia)"
      ],
      "metadata": {
        "colab": {
          "base_uri": "https://localhost:8080/"
        },
        "id": "PQPzUxdcfNqe",
        "outputId": "3f121692-a304-40d9-d0c3-42956dff1a0d"
      },
      "execution_count": 12,
      "outputs": [
        {
          "output_type": "stream",
          "name": "stdout",
          "text": [
            "Informações gerais sobre o conjunto de dados:\n",
            "<class 'pandas.core.frame.DataFrame'>\n",
            "RangeIndex: 32 entries, 0 to 31\n",
            "Data columns (total 6 columns):\n",
            " #   Column    Non-Null Count  Dtype \n",
            "---  ------    --------------  ----- \n",
            " 0   ID        32 non-null     int64 \n",
            " 1   Duration  32 non-null     int64 \n",
            " 2   Date      31 non-null     object\n",
            " 3   Pulse     32 non-null     int64 \n",
            " 4   Maxpulse  32 non-null     int64 \n",
            " 5   Calories  30 non-null     object\n",
            "dtypes: int64(4), object(2)\n",
            "memory usage: 1.6+ KB\n",
            "\n",
            "Primeiras 5 linhas:\n",
            "   ID  Duration          Date  Pulse  Maxpulse Calories\n",
            "0   0        60  '2020/12/01'    110       130     4091\n",
            "1   1        60  '2020/12/02'    117       145     4790\n",
            "2   2        60  '2020/12/03'    103       135     3400\n",
            "3   3        45  '2020/12/04'    109       175     2824\n",
            "4   4        45  '2020/12/05'    117       148     4060\n",
            "\n",
            "Últimas 5 linhas:\n",
            "    ID  Duration          Date  Pulse  Maxpulse Calories\n",
            "27  27        60  '2020/12/27'     92       118     2410\n",
            "28  28        60  '2020/12/28'    103       132      NaN\n",
            "29  29        60  '2020/12/29'    100       132     2800\n",
            "30  30        60  '2020/12/30'    102       129     3803\n",
            "31  31        60  '2020/12/31'     92       115     2430\n",
            "\n",
            "Dados após substituir valores nulos em 'Calories' por 0:\n",
            "    ID  Duration          Date  Pulse  Maxpulse Calories\n",
            "0    0        60  '2020/12/01'    110       130     4091\n",
            "1    1        60  '2020/12/02'    117       145     4790\n",
            "2    2        60  '2020/12/03'    103       135     3400\n",
            "3    3        45  '2020/12/04'    109       175     2824\n",
            "4    4        45  '2020/12/05'    117       148     4060\n",
            "..  ..       ...           ...    ...       ...      ...\n",
            "27  27        60  '2020/12/27'     92       118     2410\n",
            "28  28        60  '2020/12/28'    103       132        0\n",
            "29  29        60  '2020/12/29'    100       132     2800\n",
            "30  30        60  '2020/12/30'    102       129     3803\n",
            "31  31        60  '2020/12/31'     92       115     2430\n",
            "\n",
            "[32 rows x 6 columns]\n",
            "\n",
            "Dados após substituir valores nulos em 'Date' por '1900/01/01':\n",
            "    ID  Duration          Date  Pulse  Maxpulse Calories\n",
            "0    0        60  '2020/12/01'    110       130     4091\n",
            "1    1        60  '2020/12/02'    117       145     4790\n",
            "2    2        60  '2020/12/03'    103       135     3400\n",
            "3    3        45  '2020/12/04'    109       175     2824\n",
            "4    4        45  '2020/12/05'    117       148     4060\n",
            "..  ..       ...           ...    ...       ...      ...\n",
            "27  27        60  '2020/12/27'     92       118     2410\n",
            "28  28        60  '2020/12/28'    103       132        0\n",
            "29  29        60  '2020/12/29'    100       132     2800\n",
            "30  30        60  '2020/12/30'    102       129     3803\n",
            "31  31        60  '2020/12/31'     92       115     2430\n",
            "\n",
            "[32 rows x 6 columns]\n",
            "\n",
            "Dados após substituir '1900/01/01' por NaN e converter para datetime:\n",
            "    ID  Duration       Date  Pulse  Maxpulse Calories\n",
            "0    0        60 2020-12-01    110       130     4091\n",
            "1    1        60 2020-12-02    117       145     4790\n",
            "2    2        60 2020-12-03    103       135     3400\n",
            "3    3        45 2020-12-04    109       175     2824\n",
            "4    4        45 2020-12-05    117       148     4060\n",
            "..  ..       ...        ...    ...       ...      ...\n",
            "27  27        60 2020-12-27     92       118     2410\n",
            "28  28        60 2020-12-28    103       132        0\n",
            "29  29        60 2020-12-29    100       132     2800\n",
            "30  30        60 2020-12-30    102       129     3803\n",
            "31  31        60 2020-12-31     92       115     2430\n",
            "\n",
            "[32 rows x 6 columns]\n",
            "\n",
            "Dados após corrigir o valor '20201226' e converter para datetime:\n",
            "    ID  Duration       Date  Pulse  Maxpulse Calories\n",
            "0    0        60 2020-12-01    110       130     4091\n",
            "1    1        60 2020-12-02    117       145     4790\n",
            "2    2        60 2020-12-03    103       135     3400\n",
            "3    3        45 2020-12-04    109       175     2824\n",
            "4    4        45 2020-12-05    117       148     4060\n",
            "..  ..       ...        ...    ...       ...      ...\n",
            "27  27        60 2020-12-27     92       118     2410\n",
            "28  28        60 2020-12-28    103       132        0\n",
            "29  29        60 2020-12-29    100       132     2800\n",
            "30  30        60 2020-12-30    102       129     3803\n",
            "31  31        60 2020-12-31     92       115     2430\n",
            "\n",
            "[32 rows x 6 columns]\n",
            "\n",
            "DataFrame final após todas as transformações:\n",
            "    ID  Duration       Date  Pulse  Maxpulse Calories\n",
            "0    0        60 2020-12-01    110       130     4091\n",
            "1    1        60 2020-12-02    117       145     4790\n",
            "2    2        60 2020-12-03    103       135     3400\n",
            "3    3        45 2020-12-04    109       175     2824\n",
            "4    4        45 2020-12-05    117       148     4060\n",
            "..  ..       ...        ...    ...       ...      ...\n",
            "27  27        60 2020-12-27     92       118     2410\n",
            "28  28        60 2020-12-28    103       132        0\n",
            "29  29        60 2020-12-29    100       132     2800\n",
            "30  30        60 2020-12-30    102       129     3803\n",
            "31  31        60 2020-12-31     92       115     2430\n",
            "\n",
            "[30 rows x 6 columns]\n"
          ]
        },
        {
          "output_type": "stream",
          "name": "stderr",
          "text": [
            "<ipython-input-12-628ffe148cb9>:14: FutureWarning: A value is trying to be set on a copy of a DataFrame or Series through chained assignment using an inplace method.\n",
            "The behavior will change in pandas 3.0. This inplace method will never work because the intermediate object on which we are setting values always behaves as a copy.\n",
            "\n",
            "For example, when doing 'df[col].method(value, inplace=True)', try using 'df.method({col: value}, inplace=True)' or df[col] = df[col].method(value) instead, to perform the operation inplace on the original object.\n",
            "\n",
            "\n",
            "  dados_exercicio_copia['Calories'].fillna(0, inplace=True)\n",
            "<ipython-input-12-628ffe148cb9>:19: FutureWarning: A value is trying to be set on a copy of a DataFrame or Series through chained assignment using an inplace method.\n",
            "The behavior will change in pandas 3.0. This inplace method will never work because the intermediate object on which we are setting values always behaves as a copy.\n",
            "\n",
            "For example, when doing 'df[col].method(value, inplace=True)', try using 'df.method({col: value}, inplace=True)' or df[col] = df[col].method(value) instead, to perform the operation inplace on the original object.\n",
            "\n",
            "\n",
            "  dados_exercicio_copia['Date'].fillna('1900/01/01', inplace=True)\n",
            "<ipython-input-12-628ffe148cb9>:31: FutureWarning: A value is trying to be set on a copy of a DataFrame or Series through chained assignment using an inplace method.\n",
            "The behavior will change in pandas 3.0. This inplace method will never work because the intermediate object on which we are setting values always behaves as a copy.\n",
            "\n",
            "For example, when doing 'df[col].method(value, inplace=True)', try using 'df.method({col: value}, inplace=True)' or df[col] = df[col].method(value) instead, to perform the operation inplace on the original object.\n",
            "\n",
            "\n",
            "  dados_exercicio_copia['Date'].replace('1900/01/01', np.nan, inplace=True)\n"
          ]
        }
      ]
    }
  ]
}